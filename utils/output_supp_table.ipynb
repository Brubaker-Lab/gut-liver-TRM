{
 "cells": [
  {
   "cell_type": "code",
   "execution_count": null,
   "id": "69367240-a9ee-4a0e-b7fa-d770822877e1",
   "metadata": {},
   "outputs": [],
   "source": [
    "import pandas as pd\n",
    "import glob\n",
    "import os\n",
    "\n",
    "tot_dir = r\"E:\\AAA_Labwork\\T cells\\v3\\all_script\"\n",
    "directory = tot_dir + r\"\\GSEA\"  # Replace with your actual directory path\n",
    "\n",
    "csv_files = glob.glob(os.path.join(directory, \"*.csv\"))\n",
    "\n",
    "output_excel = tot_dir + r\"\\SupplementaryTableB.xlsx\"\n",
    "\n",
    "# Create an ExcelWriter object\n",
    "with pd.ExcelWriter(output_excel, engine=\"xlsxwriter\") as writer:\n",
    "    # Loop over all CSV files\n",
    "    for csv_file in csv_files:\n",
    "        # Read the CSV file with the first column as the index\n",
    "        df = pd.read_csv(csv_file, index_col=0)\n",
    "        \n",
    "        # Create a sheet name from the CSV filename (without the extension)\n",
    "        sheet_name = os.path.splitext(os.path.basename(csv_file))[0]\n",
    "        \n",
    "        # Write the DataFrame to a sheet in the Excel file\n",
    "        df.to_excel(writer, sheet_name='_'.join(np.array(sheet_name.split('_'))[np.r_[0,3]]))\n",
    "        # df.to_excel(writer, sheet_name=sheet_name)\n",
    "        # df.to_excel(writer, sheet_name='_'.join(np.array(sheet_name.split(' '))[np.r_[1,2,4]]))\n",
    "\n",
    "print(f\"All CSV files have been combined into '{output_excel}'.\")"
   ]
  }
 ],
 "metadata": {
  "kernelspec": {
   "display_name": "Python 3 (ipykernel)",
   "language": "python",
   "name": "python3"
  },
  "language_info": {
   "codemirror_mode": {
    "name": "ipython",
    "version": 3
   },
   "file_extension": ".py",
   "mimetype": "text/x-python",
   "name": "python",
   "nbconvert_exporter": "python",
   "pygments_lexer": "ipython3",
   "version": "3.9.13"
  }
 },
 "nbformat": 4,
 "nbformat_minor": 5
}
